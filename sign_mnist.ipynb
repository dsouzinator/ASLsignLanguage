{
  "nbformat": 4,
  "nbformat_minor": 0,
  "metadata": {
    "colab": {
      "name": "sign_mnist.ipynb",
      "version": "0.3.2",
      "provenance": []
    },
    "kernelspec": {
      "name": "python3",
      "display_name": "Python 3"
    }
  },
  "cells": [
    {
      "cell_type": "code",
      "metadata": {
        "id": "GP9-qdJWW0zx",
        "colab_type": "code",
        "outputId": "4a55375d-58e6-4073-bcf9-322c5c77371b",
        "colab": {
          "base_uri": "https://localhost:8080/",
          "height": 33
        }
      },
      "source": [
        "import tensorflow as tf\n",
        "from tensorflow import keras\n",
        "import numpy as np\n",
        "import pandas as pd\n",
        "import matplotlib.pyplot as plt\n",
        "from google.colab import drive\n",
        "\n",
        "tf.__version__"
      ],
      "execution_count": 0,
      "outputs": [
        {
          "output_type": "execute_result",
          "data": {
            "text/plain": [
              "'1.14.0-rc1'"
            ]
          },
          "metadata": {
            "tags": []
          },
          "execution_count": 1
        }
      ]
    },
    {
      "cell_type": "code",
      "metadata": {
        "id": "FdMr0O0HW9rF",
        "colab_type": "code",
        "outputId": "5b6da98a-0483-4ea7-f3e6-ecfbbbf893b9",
        "colab": {
          "base_uri": "https://localhost:8080/",
          "height": 33
        }
      },
      "source": [
        "drive.mount('/content/gdrive')"
      ],
      "execution_count": 0,
      "outputs": [
        {
          "output_type": "stream",
          "text": [
            "Mounted at /content/gdrive\n"
          ],
          "name": "stdout"
        }
      ]
    },
    {
      "cell_type": "code",
      "metadata": {
        "id": "u_7dznb8XJj4",
        "colab_type": "code",
        "colab": {}
      },
      "source": [
        "df_train = pd.read_csv('./gdrive/My Drive/SIGN_LANGUAGE/sign_mnist_train.csv')\n",
        "df_test = pd.read_csv('./gdrive/My Drive/SIGN_LANGUAGE/sign_mnist_test.csv')"
      ],
      "execution_count": 0,
      "outputs": []
    },
    {
      "cell_type": "code",
      "metadata": {
        "id": "KkHUBtcYXcJ4",
        "colab_type": "code",
        "outputId": "d6b88ea4-e5d8-44e9-a8e6-8a3856db706a",
        "colab": {
          "base_uri": "https://localhost:8080/",
          "height": 33
        }
      },
      "source": [
        "df_train.shape, df_test.shape"
      ],
      "execution_count": 0,
      "outputs": [
        {
          "output_type": "execute_result",
          "data": {
            "text/plain": [
              "((27455, 785), (7172, 785))"
            ]
          },
          "metadata": {
            "tags": []
          },
          "execution_count": 4
        }
      ]
    },
    {
      "cell_type": "code",
      "metadata": {
        "id": "XOm2y2wqYPhf",
        "colab_type": "code",
        "outputId": "52000d4b-594d-4619-dbee-7c28a89a5888",
        "colab": {
          "base_uri": "https://localhost:8080/",
          "height": 50
        }
      },
      "source": [
        "np.sort(df_train['label'].unique())"
      ],
      "execution_count": 0,
      "outputs": [
        {
          "output_type": "execute_result",
          "data": {
            "text/plain": [
              "array([ 0,  1,  2,  3,  4,  5,  6,  7,  8, 10, 11, 12, 13, 14, 15, 16, 17,\n",
              "       18, 19, 20, 21, 22, 23, 24])"
            ]
          },
          "metadata": {
            "tags": []
          },
          "execution_count": 5
        }
      ]
    },
    {
      "cell_type": "code",
      "metadata": {
        "id": "FAoy9f4bYlWr",
        "colab_type": "code",
        "colab": {}
      },
      "source": [
        "x_train, y_train = df_train.drop(columns='label').values, df_train['label'].values\n",
        "x_test, y_test = df_test.drop(columns='label').values, df_test['label'].values"
      ],
      "execution_count": 0,
      "outputs": []
    },
    {
      "cell_type": "code",
      "metadata": {
        "id": "W9nF3JR5Y2ji",
        "colab_type": "code",
        "colab": {}
      },
      "source": [
        "x_train = x_train / 255\n",
        "x_test = x_test / 255\n",
        "\n",
        "x_train = x_train.reshape(x_train.shape[0], 28, 28, 1)\n",
        "x_test = x_test.reshape(x_test.shape[0], 28, 28, 1)"
      ],
      "execution_count": 0,
      "outputs": []
    },
    {
      "cell_type": "code",
      "metadata": {
        "id": "6lGpXLn-Y7US",
        "colab_type": "code",
        "outputId": "ef539b8d-1887-42a4-87f0-2fa3a01d6bb1",
        "colab": {
          "base_uri": "https://localhost:8080/",
          "height": 286
        }
      },
      "source": [
        "i = 6\n",
        "plt.figure(1)\n",
        "plt.imshow(x_train[i].reshape(28, 28))\n",
        "plt.show()\n",
        "print(y_train[i])"
      ],
      "execution_count": 0,
      "outputs": [
        {
          "output_type": "display_data",
          "data": {
            "image/png": "[encoded data removed]",
            "text/plain": [
              "<Figure size 432x288 with 1 Axes>"
            ]
          },
          "metadata": {
            "tags": []
          }
        },
        {
          "output_type": "stream",
          "text": [
            "8\n"
          ],
          "name": "stdout"
        }
      ]
    },
    {
      "cell_type": "code",
      "metadata": {
        "id": "SCZ_VqG3ZTXZ",
        "colab_type": "code",
        "outputId": "869fe53f-e84b-471a-a6f8-23b0d2884407",
        "colab": {
          "base_uri": "https://localhost:8080/",
          "height": 104
        }
      },
      "source": [
        "model = keras.Sequential()\n",
        "model.add(keras.layers.Conv2D(64, kernel_size=(3,3), activation = 'relu', input_shape=(28, 28 ,1) ))\n",
        "model.add(keras.layers.MaxPooling2D(pool_size = (2, 2)))\n",
        "\n",
        "model.add(keras.layers.Conv2D(64, kernel_size = (3, 3), activation = 'relu'))\n",
        "model.add(keras.layers.MaxPooling2D(pool_size = (2, 2)))\n",
        "\n",
        "model.add(keras.layers.Conv2D(64, kernel_size = (3, 3), activation = 'relu'))\n",
        "model.add(keras.layers.MaxPooling2D(pool_size = (2, 2)))\n",
        "\n",
        "model.add(keras.layers.Flatten())\n",
        "model.add(keras.layers.Dense(128, activation = 'relu'))\n",
        "model.add(keras.layers.Dropout(0.20))\n",
        "model.add(keras.layers.Dense(25, activation = 'softmax'))"
      ],
      "execution_count": 0,
      "outputs": [
        {
          "output_type": "stream",
          "text": [
            "WARNING: Logging before flag parsing goes to stderr.\n",
            "W0623 14:31:59.591663 139920542091136 deprecation.py:506] From /usr/local/lib/python3.6/dist-packages/tensorflow/python/ops/init_ops.py:1251: calling VarianceScaling.__init__ (from tensorflow.python.ops.init_ops) with dtype is deprecated and will be removed in a future version.\n",
            "Instructions for updating:\n",
            "Call initializer instance with the dtype argument instead of passing it to the constructor\n"
          ],
          "name": "stderr"
        }
      ]
    },
    {
      "cell_type": "code",
      "metadata": {
        "id": "sxVeV484ZyHQ",
        "colab_type": "code",
        "colab": {}
      },
      "source": [
        "model.compile(optimizer='adam', loss = 'sparse_categorical_crossentropy', metrics=['accuracy'])"
      ],
      "execution_count": 0,
      "outputs": []
    },
    {
      "cell_type": "code",
      "metadata": {
        "id": "eKRwZGKAcBo5",
        "colab_type": "code",
        "outputId": "4d6f6fb3-6a12-47b8-801d-9c7f8d604f56",
        "colab": {
          "base_uri": "https://localhost:8080/",
          "height": 1706
        }
      },
      "source": [
        "history = model.fit(x_train, y_train, validation_data = (x_test, y_test), epochs=50, batch_size=128)"
      ],
      "execution_count": 0,
      "outputs": [
        {
          "output_type": "stream",
          "text": [
            "Train on 27455 samples, validate on 7172 samples\n",
            "Epoch 1/50\n",
            "27455/27455 [==============================] - 39s 1ms/sample - loss: 2.1429 - acc: 0.3342 - val_loss: 1.0423 - val_acc: 0.6654\n",
            "Epoch 2/50\n",
            "27455/27455 [==============================] - 39s 1ms/sample - loss: 0.7298 - acc: 0.7529 - val_loss: 0.6146 - val_acc: 0.7846\n",
            "Epoch 3/50\n",
            "27455/27455 [==============================] - 39s 1ms/sample - loss: 0.3731 - acc: 0.8748 - val_loss: 0.4891 - val_acc: 0.8360\n",
            "Epoch 4/50\n",
            "27455/27455 [==============================] - 39s 1ms/sample - loss: 0.2153 - acc: 0.9276 - val_loss: 0.3668 - val_acc: 0.8726\n",
            "Epoch 5/50\n",
            "27455/27455 [==============================] - 39s 1ms/sample - loss: 0.1223 - acc: 0.9625 - val_loss: 0.3496 - val_acc: 0.8834\n",
            "Epoch 6/50\n",
            "27455/27455 [==============================] - 39s 1ms/sample - loss: 0.0810 - acc: 0.9763 - val_loss: 0.3730 - val_acc: 0.8907\n",
            "Epoch 7/50\n",
            "27455/27455 [==============================] - 39s 1ms/sample - loss: 0.0522 - acc: 0.9867 - val_loss: 0.3636 - val_acc: 0.8922\n",
            "Epoch 8/50\n",
            "27455/27455 [==============================] - 39s 1ms/sample - loss: 0.0375 - acc: 0.9901 - val_loss: 0.3576 - val_acc: 0.8928\n",
            "Epoch 9/50\n",
            "27455/27455 [==============================] - 39s 1ms/sample - loss: 0.0286 - acc: 0.9932 - val_loss: 0.3737 - val_acc: 0.8981\n",
            "Epoch 10/50\n",
            "27455/27455 [==============================] - 39s 1ms/sample - loss: 0.0219 - acc: 0.9950 - val_loss: 0.3520 - val_acc: 0.9016\n",
            "Epoch 11/50\n",
            "27455/27455 [==============================] - 39s 1ms/sample - loss: 0.0158 - acc: 0.9968 - val_loss: 0.3574 - val_acc: 0.9045\n",
            "Epoch 12/50\n",
            "27455/27455 [==============================] - 39s 1ms/sample - loss: 0.0195 - acc: 0.9949 - val_loss: 0.4614 - val_acc: 0.8815\n",
            "Epoch 13/50\n",
            "27455/27455 [==============================] - 39s 1ms/sample - loss: 0.0136 - acc: 0.9966 - val_loss: 0.3681 - val_acc: 0.9152\n",
            "Epoch 14/50\n",
            "27455/27455 [==============================] - 39s 1ms/sample - loss: 0.0104 - acc: 0.9972 - val_loss: 0.4234 - val_acc: 0.9004\n",
            "Epoch 15/50\n",
            "27455/27455 [==============================] - 39s 1ms/sample - loss: 0.0101 - acc: 0.9975 - val_loss: 0.3778 - val_acc: 0.9044\n",
            "Epoch 16/50\n",
            "27455/27455 [==============================] - 39s 1ms/sample - loss: 0.0100 - acc: 0.9975 - val_loss: 0.3840 - val_acc: 0.9091\n",
            "Epoch 17/50\n",
            "27455/27455 [==============================] - 40s 1ms/sample - loss: 0.0101 - acc: 0.9970 - val_loss: 0.3532 - val_acc: 0.9126\n",
            "Epoch 18/50\n",
            "27455/27455 [==============================] - 39s 1ms/sample - loss: 0.0096 - acc: 0.9971 - val_loss: 0.4181 - val_acc: 0.8988\n",
            "Epoch 19/50\n",
            "27455/27455 [==============================] - 39s 1ms/sample - loss: 0.0151 - acc: 0.9956 - val_loss: 0.4126 - val_acc: 0.9094\n",
            "Epoch 20/50\n",
            "27455/27455 [==============================] - 41s 1ms/sample - loss: 0.0036 - acc: 0.9993 - val_loss: 0.3671 - val_acc: 0.9260\n",
            "Epoch 21/50\n",
            "27455/27455 [==============================] - 40s 1ms/sample - loss: 0.0061 - acc: 0.9980 - val_loss: 0.4676 - val_acc: 0.9078\n",
            "Epoch 22/50\n",
            "27455/27455 [==============================] - 40s 1ms/sample - loss: 0.0112 - acc: 0.9967 - val_loss: 0.4315 - val_acc: 0.9144\n",
            "Epoch 23/50\n",
            "27455/27455 [==============================] - 40s 1ms/sample - loss: 0.0035 - acc: 0.9994 - val_loss: 0.4050 - val_acc: 0.9261\n",
            "Epoch 24/50\n",
            "27455/27455 [==============================] - 39s 1ms/sample - loss: 0.0029 - acc: 0.9992 - val_loss: 0.4876 - val_acc: 0.9013\n",
            "Epoch 25/50\n",
            "27455/27455 [==============================] - 39s 1ms/sample - loss: 0.0041 - acc: 0.9991 - val_loss: 0.5441 - val_acc: 0.9030\n",
            "Epoch 26/50\n",
            "27455/27455 [==============================] - 39s 1ms/sample - loss: 0.0184 - acc: 0.9939 - val_loss: 0.4874 - val_acc: 0.9202\n",
            "Epoch 27/50\n",
            "27455/27455 [==============================] - 39s 1ms/sample - loss: 0.0035 - acc: 0.9989 - val_loss: 0.5650 - val_acc: 0.8965\n",
            "Epoch 28/50\n",
            "27455/27455 [==============================] - 39s 1ms/sample - loss: 0.0071 - acc: 0.9977 - val_loss: 0.5882 - val_acc: 0.8872\n",
            "Epoch 29/50\n",
            "27455/27455 [==============================] - 39s 1ms/sample - loss: 0.0037 - acc: 0.9989 - val_loss: 0.4370 - val_acc: 0.9276\n",
            "Epoch 30/50\n",
            "27455/27455 [==============================] - 39s 1ms/sample - loss: 0.0010 - acc: 0.9999 - val_loss: 0.5498 - val_acc: 0.9187\n",
            "Epoch 31/50\n",
            "27455/27455 [==============================] - 39s 1ms/sample - loss: 0.0072 - acc: 0.9977 - val_loss: 0.6177 - val_acc: 0.8967\n",
            "Epoch 32/50\n",
            "27455/27455 [==============================] - 39s 1ms/sample - loss: 0.0019 - acc: 0.9995 - val_loss: 0.4711 - val_acc: 0.9117\n",
            "Epoch 33/50\n",
            "27455/27455 [==============================] - 39s 1ms/sample - loss: 0.0095 - acc: 0.9971 - val_loss: 0.4822 - val_acc: 0.9115\n",
            "Epoch 34/50\n",
            "27455/27455 [==============================] - 39s 1ms/sample - loss: 0.0056 - acc: 0.9981 - val_loss: 0.5775 - val_acc: 0.9074\n",
            "Epoch 35/50\n",
            "27455/27455 [==============================] - 39s 1ms/sample - loss: 0.0085 - acc: 0.9977 - val_loss: 0.4738 - val_acc: 0.9163\n",
            "Epoch 36/50\n",
            "27455/27455 [==============================] - 39s 1ms/sample - loss: 0.0077 - acc: 0.9975 - val_loss: 0.4667 - val_acc: 0.9184\n",
            "Epoch 37/50\n",
            "27455/27455 [==============================] - 39s 1ms/sample - loss: 0.0023 - acc: 0.9992 - val_loss: 0.4599 - val_acc: 0.9269\n",
            "Epoch 38/50\n",
            "27455/27455 [==============================] - 39s 1ms/sample - loss: 0.0025 - acc: 0.9992 - val_loss: 0.4526 - val_acc: 0.9207\n",
            "Epoch 39/50\n",
            "27455/27455 [==============================] - 39s 1ms/sample - loss: 0.0076 - acc: 0.9978 - val_loss: 0.4443 - val_acc: 0.9215\n",
            "Epoch 40/50\n",
            "27455/27455 [==============================] - 39s 1ms/sample - loss: 0.0011 - acc: 0.9997 - val_loss: 0.5256 - val_acc: 0.9334\n",
            "Epoch 41/50\n",
            "27455/27455 [==============================] - 39s 1ms/sample - loss: 0.0041 - acc: 0.9986 - val_loss: 0.4597 - val_acc: 0.9236\n",
            "Epoch 42/50\n",
            "27455/27455 [==============================] - 39s 1ms/sample - loss: 5.9622e-04 - acc: 0.9999 - val_loss: 0.5414 - val_acc: 0.9254\n",
            "Epoch 43/50\n",
            "27455/27455 [==============================] - 39s 1ms/sample - loss: 0.0073 - acc: 0.9978 - val_loss: 0.4896 - val_acc: 0.9226\n",
            "Epoch 44/50\n",
            "27455/27455 [==============================] - 39s 1ms/sample - loss: 0.0047 - acc: 0.9986 - val_loss: 0.5031 - val_acc: 0.9138\n",
            "Epoch 45/50\n",
            "27455/27455 [==============================] - 39s 1ms/sample - loss: 0.0029 - acc: 0.9991 - val_loss: 0.4361 - val_acc: 0.9243\n",
            "Epoch 46/50\n",
            "27455/27455 [==============================] - 39s 1ms/sample - loss: 0.0020 - acc: 0.9993 - val_loss: 0.4370 - val_acc: 0.9216\n",
            "Epoch 47/50\n",
            "27455/27455 [==============================] - 39s 1ms/sample - loss: 0.0064 - acc: 0.9980 - val_loss: 0.4566 - val_acc: 0.9119\n",
            "Epoch 48/50\n",
            "27455/27455 [==============================] - 39s 1ms/sample - loss: 0.0070 - acc: 0.9977 - val_loss: 0.5790 - val_acc: 0.8986\n",
            "Epoch 49/50\n",
            "27455/27455 [==============================] - 39s 1ms/sample - loss: 0.0028 - acc: 0.9992 - val_loss: 0.6922 - val_acc: 0.9081\n",
            "Epoch 50/50\n",
            "27455/27455 [==============================] - 39s 1ms/sample - loss: 0.0019 - acc: 0.9995 - val_loss: 0.5375 - val_acc: 0.9250\n"
          ],
          "name": "stdout"
        }
      ]
    },
    {
      "cell_type": "code",
      "metadata": {
        "id": "gwv2Bh4gcW2i",
        "colab_type": "code",
        "outputId": "8f464218-7b5a-43ab-a975-889990dd20fb",
        "colab": {
          "base_uri": "https://localhost:8080/",
          "height": 369
        }
      },
      "source": [
        "import cv2\n",
        "\n",
        "class_names = ['A', 'B', 'C', 'D', 'E', 'F', 'G', 'H', 'I', 'J', 'K', 'L', 'M',\n",
        "               'N', 'O', 'P', 'Q', 'R', 'S', 'T', 'U', 'V', 'W', 'X', 'Y', 'Z']\n",
        "\n",
        "# img = cv2.imread('./drive/My Drive/bdann prj/X.jpg',0)\n",
        "\n",
        "x=5\n",
        "\n",
        "image = cv2.imread('./drive/My Drive/Alphabets(Advik)/' + str(class_names[x]) + '.jpg')\n",
        "\n",
        "#gray = cv2.cvtColor(image, cv2.COLOR_RGB2GRAY)\n",
        "#ret, thresh = cv2.threshold(gray, 0, 255, cv2.THRESH_BINARY_INV + cv2.THRESH_OTSU)\n",
        "\n",
        "#img = thresh\n",
        "\n",
        "plt.imshow(image)\n",
        "# img = adjust_gamma(img,0.6)\n",
        "img = cv2.resize(image,(28, 28))\n",
        "img = np.resize(img, (1, 28, 28, 1))\n",
        "img = img/255.0\n",
        "plt.imshow(img.reshape(28, 28))\n",
        "predicted = model.predict(img)\n",
        "print(predicted)\n",
        "print(class_names[np.argmax(predicted)])"
      ],
      "execution_count": 0,
      "outputs": [
        {
          "output_type": "stream",
          "text": [
            "[[1.0731225e-03 6.0782428e-13 2.4302541e-10 1.0623852e-08 7.1995226e-15\n",
            "  8.0339277e-12 8.0342013e-03 1.0658031e-02 1.3237746e-08 1.6727848e-09\n",
            "  3.9195436e-01 7.9251620e-08 5.2463190e-07 8.4341001e-03 9.4073105e-09\n",
            "  1.0903726e-04 9.9980525e-06 2.0678115e-05 1.5241235e-04 2.1811319e-09\n",
            "  3.3825728e-10 8.8067678e-11 2.8624303e-14 2.1422490e-08 5.7955337e-01]]\n",
            "Y\n"
          ],
          "name": "stdout"
        },
        {
          "output_type": "display_data",
          "data": {
            "image/png": "[encoded data removed]",
            "text/plain": [
              "<Figure size 432x288 with 1 Axes>"
            ]
          },
          "metadata": {
            "tags": []
          }
        }
      ]
    },
    {
      "cell_type": "code",
      "metadata": {
        "id": "dcwwjAVugBKo",
        "colab_type": "code",
        "colab": {}
      },
      "source": [
        "from PIL import Image"
      ],
      "execution_count": 0,
      "outputs": []
    },
    {
      "cell_type": "code",
      "metadata": {
        "id": "Jt12na1tiC8z",
        "colab_type": "code",
        "outputId": "9d83c72b-9ee9-44fa-d8a0-0808ee8a48ff",
        "colab": {
          "base_uri": "https://localhost:8080/",
          "height": 403
        }
      },
      "source": [
        "img = Image.open('./drive/My Drive/bdann prj/D.jpg').convert('L')\n",
        "img = img.resize((28, 28), Image.ANTIALIAS)\n",
        "img = np.array(img)\n",
        "img = img.reshape((1, 28, 28, 1))\n",
        "img = img/255.0\n",
        "plt.imshow(img.reshape(28, 28))\n",
        "predicted = model.predict(img)\n",
        "print(predicted)\n",
        "print(class_names[np.argmax(predicted)])"
      ],
      "execution_count": 0,
      "outputs": [
        {
          "output_type": "stream",
          "text": [
            "[[6.27551591e-15 1.12361488e-16 4.67974062e-11 2.69839376e-01\n",
            "  5.29396957e-18 9.77934608e-11 6.64958596e-01 1.66604647e-11\n",
            "  1.76685408e-13 7.68940744e-11 5.20541593e-02 3.29760397e-08\n",
            "  4.50461890e-11 1.07371931e-10 3.84373125e-05 1.03651425e-02\n",
            "  6.88412494e-10 6.57215656e-04 3.62128780e-08 1.32560265e-11\n",
            "  2.90530267e-10 2.94836244e-08 1.01978267e-15 2.08701799e-03\n",
            "  1.99263361e-09]]\n",
            "G\n"
          ],
          "name": "stdout"
        },
        {
          "output_type": "display_data",
          "data": {
            "image/png": "[encoded data removed]",
            "text/plain": [
              "<Figure size 432x288 with 1 Axes>"
            ]
          },
          "metadata": {
            "tags": []
          }
        }
      ]
    },
    {
      "cell_type": "code",
      "metadata": {
        "id": "IBhXyObDihtO",
        "colab_type": "code",
        "colab": {}
      },
      "source": [
        "class_names = np.array(['A', 'B', 'C', 'D', 'E', 'F', 'G', 'H', 'I', 'K', 'L', 'M',\n",
        "               'N', 'O', 'P', 'Q', 'R', 'S', 'T', 'U', 'V', 'W', 'X', 'Y', 'Z'])\n",
        "\n",
        "count1=count2=0\n",
        "\n",
        "for x in range(len(class_names)):\n",
        "  print(class_names[x])\n",
        "  try:\n",
        "    img = Image.open('./drive/My Drive/Alphabets(Advik)/' + str(class_names[x]) + '.jpg').convert('L')\n",
        "    img = img.rotate(-90)\n",
        "    img = img.resize((28, 28), Image.ANTIALIAS)\n",
        "    plt.imshow(img)\n",
        "    img = np.array(img)\n",
        "    img = img.reshape((1, 28, 28, 1))\n",
        "    img = img/255.0\n",
        "    #plt.imshow(img.reshape(200, 200))\n",
        "    predicted = model.predict(img)\n",
        "    # print(predicted)\n",
        "    print(class_names[np.argmax(predicted)])\n",
        "    predicted = predicted.reshape((class_names.shape[0]))\n",
        "    predicted.shape, class_names.shape\n",
        "    plt.figure()\n",
        "    plt.bar(class_names, predicted)\n",
        "    plt.show()\n",
        "    if class_names[x] != class_names[np.argmax(predicted)]:\n",
        "      count1 += 1\n",
        "    else:\n",
        "      count2 += 1\n",
        "  except:\n",
        "    print('error')"
      ],
      "execution_count": 0,
      "outputs": []
    }
  ]
}